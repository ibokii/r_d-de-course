{
 "cells": [
  {
   "cell_type": "code",
   "execution_count": 1,
   "metadata": {},
   "outputs": [],
   "source": [
    "from pyspark.sql import SparkSession, functions as F, types as T"
   ]
  },
  {
   "cell_type": "code",
   "execution_count": 2,
   "metadata": {
    "collapsed": false,
    "jupyter": {
     "outputs_hidden": false
    },
    "pycharm": {
     "is_executing": true
    }
   },
   "outputs": [
    {
     "name": "stderr",
     "output_type": "stream",
     "text": [
      "25/06/22 15:49:59 WARN SparkSession: Using an existing Spark session; only runtime SQL configurations will take effect.\n"
     ]
    }
   ],
   "source": [
    "spark = SparkSession.builder.master(\"spark://spark-master:7077\").config(\"spark.jars.packages\", \"org.apache.hadoop:hadoop-aws-2.7.3\").appName(\"spark-hw\").getOrCreate()\n",
    "#spark = SparkSession.builder.master(\"local[*]\").getOrCreate()"
   ]
  },
  {
   "cell_type": "code",
   "execution_count": 3,
   "metadata": {
    "collapsed": false,
    "jupyter": {
     "outputs_hidden": false
    }
   },
   "outputs": [
    {
     "name": "stdout",
     "output_type": "stream",
     "text": [
      "3.5.5\n"
     ]
    }
   ],
   "source": [
    "print(spark.version)"
   ]
  },
  {
   "cell_type": "code",
   "execution_count": 4,
   "metadata": {
    "collapsed": false,
    "jupyter": {
     "outputs_hidden": false
    }
   },
   "outputs": [
    {
     "name": "stderr",
     "output_type": "stream",
     "text": [
      "                                                                                "
     ]
    }
   ],
   "source": [
    "actor_df = spark.read.csv('../data/actor.csv', header=True, inferSchema=True)\n",
    "address_df = spark.read.csv('../data/address.csv', header=True, inferSchema=True)\n",
    "category_df = spark.read.csv('../data/category.csv', header=True, inferSchema=True)\n",
    "city_df = spark.read.csv('../data/city.csv', header=True, inferSchema=True)\n",
    "country_df = spark.read.csv('../data/country.csv', header=True, inferSchema=True)\n",
    "customer_df = spark.read.csv('../data/customer.csv', header=True, inferSchema=True)\n",
    "film_df = spark.read.csv('../data/film.csv', header=True, inferSchema=True)\n",
    "film_actor_df = spark.read.csv('../data/film_actor.csv', header=True, inferSchema=True)\n",
    "film_category_df = spark.read.csv('../data/film_category.csv', header=True, inferSchema=True)\n",
    "inventory_df = spark.read.csv('../data/inventory.csv', header=True, inferSchema=True)\n",
    "language_df = spark.read.csv('../data/language.csv', header=True, inferSchema=True)\n",
    "payment_df = spark.read.csv('../data/payment.csv', header=True, inferSchema=True)\n",
    "rental_df = spark.read.csv('../data/rental.csv', header=True, inferSchema=True)\n",
    "staff_df = spark.read.csv('../data/staff.csv', header=True, inferSchema=True)\n",
    "store_df = spark.read.csv('../data/store.csv', header=True, inferSchema=True)"
   ]
  },
  {
   "cell_type": "markdown",
   "metadata": {
    "collapsed": false,
    "jupyter": {
     "outputs_hidden": false
    }
   },
   "source": [
    "# Домашнє завдання на тему Spark SQL\n",
    "\n",
    "Задачі з домашнього завдання на SQL потрібно розвʼязати за допомогою Spark SQL DataFrame API.\n",
    "\n",
    "- Дампи таблиць знаходяться в папці `data`. Датафрейми таблиць вже створені в клітинці вище.\n",
    "- Можете створювати стільки нових клітинок, скільки вам необхідно.\n",
    "- Розвʼязок кожної задачі має бути відображений в самому файлі (використати метод `.show()`)\n",
    "- код має бути оформлений у відповідності із одним із стилем, показаним лектором на занятті 13.\n",
    "\n",
    "**Увага!**\n",
    "Використовувати мову запитів SQL безпосередньо забороняється, потрібно використовувати виключно DataFrame API!\n"
   ]
  },
  {
   "cell_type": "markdown",
   "metadata": {
    "collapsed": false,
    "jupyter": {
     "outputs_hidden": false
    }
   },
   "source": [
    "1.\n",
    "Вивести кількість фільмів в кожній категорії.\n",
    "Результат відсортувати за спаданням."
   ]
  },
  {
   "cell_type": "code",
   "execution_count": 5,
   "metadata": {},
   "outputs": [
    {
     "name": "stdout",
     "output_type": "stream",
     "text": [
      "+-----------+-----+\n",
      "|       name|count|\n",
      "+-----------+-----+\n",
      "|     Sports|   74|\n",
      "|    Foreign|   73|\n",
      "|     Family|   69|\n",
      "|Documentary|   68|\n",
      "|  Animation|   66|\n",
      "|     Action|   64|\n",
      "|        New|   63|\n",
      "|      Drama|   62|\n",
      "|      Games|   61|\n",
      "|     Sci-Fi|   61|\n",
      "|   Children|   60|\n",
      "|     Comedy|   58|\n",
      "|     Travel|   57|\n",
      "|   Classics|   57|\n",
      "|     Horror|   56|\n",
      "|      Music|   51|\n",
      "+-----------+-----+\n",
      "\n"
     ]
    }
   ],
   "source": [
    "film_counts = film_category_df.groupBy(\"category_id\").count()\n",
    "\n",
    "result = film_counts.join(category_df, \"category_id\") \\\n",
    "    .select(\"name\", \"count\") \\\n",
    "    .orderBy(\"count\", ascending=False)\n",
    "\n",
    "result.show()\n"
   ]
  },
  {
   "cell_type": "markdown",
   "metadata": {
    "collapsed": false,
    "jupyter": {
     "outputs_hidden": false
    }
   },
   "source": [
    "2.\n",
    "Вивести 10 акторів, чиї фільми брали на прокат найбільше.\n",
    "Результат відсортувати за спаданням."
   ]
  },
  {
   "cell_type": "code",
   "execution_count": 6,
   "metadata": {
    "collapsed": false,
    "jupyter": {
     "outputs_hidden": false
    }
   },
   "outputs": [
    {
     "name": "stdout",
     "output_type": "stream",
     "text": [
      "+------------------+-----+\n",
      "|         full_name|count|\n",
      "+------------------+-----+\n",
      "|       SUSAN DAVIS|  825|\n",
      "|    GINA DEGENERES|  753|\n",
      "|    MATTHEW CARREY|  678|\n",
      "|       MARY KEITEL|  674|\n",
      "|ANGELA WITHERSPOON|  654|\n",
      "|       WALTER TORN|  640|\n",
      "|       HENRY BERRY|  612|\n",
      "|       JAYNE NOLTE|  611|\n",
      "|        VAL BOLGER|  605|\n",
      "|     SANDRA KILMER|  604|\n",
      "+------------------+-----+\n",
      "\n"
     ]
    }
   ],
   "source": [
    "rental_with_film = rental_df.join(inventory_df, \"inventory_id\")\n",
    "rental_with_actor = rental_with_film.join(film_actor_df, \"film_id\")\n",
    "rental_with_names = rental_with_actor.join(actor_df, \"actor_id\")\n",
    "\n",
    "top_actors = (\n",
    "    rental_with_names\n",
    "    .withColumn(\"full_name\", F.concat_ws(\" \", \"first_name\", \"last_name\"))\n",
    "    .groupBy(\"full_name\")\n",
    "    .count()\n",
    "    .orderBy(\"count\", ascending=False)\n",
    "    .limit(10)\n",
    ")\n",
    "\n",
    "top_actors.show()"
   ]
  },
  {
   "cell_type": "markdown",
   "metadata": {
    "collapsed": false,
    "jupyter": {
     "outputs_hidden": false
    }
   },
   "source": [
    "3.\n",
    "Вивести категорію фільмів, на яку було витрачено найбільше грошей\n",
    "в прокаті"
   ]
  },
  {
   "cell_type": "code",
   "execution_count": 7,
   "metadata": {
    "collapsed": false,
    "jupyter": {
     "outputs_hidden": false
    }
   },
   "outputs": [
    {
     "name": "stdout",
     "output_type": "stream",
     "text": [
      "+------+------------------+\n",
      "|  name|       total_spent|\n",
      "+------+------------------+\n",
      "|Sports|3617.2099999998945|\n",
      "+------+------------------+\n",
      "\n"
     ]
    }
   ],
   "source": [
    "rental_with_film = rental_df.join(inventory_df, \"inventory_id\")\n",
    "rental_with_film_data = rental_with_film.join(film_df, \"film_id\")\n",
    "rental_with_category = rental_with_film_data.join(film_category_df, \"film_id\")\n",
    "rental_with_category_name = rental_with_category.join(category_df, \"category_id\")\n",
    "\n",
    "category_spending = (\n",
    "    rental_with_category_name\n",
    "    .groupBy(\"name\")\n",
    "    .agg(F.sum(\"rental_rate\").alias(\"total_spent\"))\n",
    "    .orderBy(\"total_spent\", ascending=False)\n",
    "    .limit(1)\n",
    ")\n",
    "\n",
    "category_spending.show()\n"
   ]
  },
  {
   "cell_type": "markdown",
   "metadata": {
    "collapsed": false,
    "jupyter": {
     "outputs_hidden": false
    }
   },
   "source": [
    "4.\n",
    "Вивести назви фільмів, яких не має в inventory."
   ]
  },
  {
   "cell_type": "code",
   "execution_count": 8,
   "metadata": {
    "collapsed": false,
    "jupyter": {
     "outputs_hidden": false
    }
   },
   "outputs": [
    {
     "name": "stdout",
     "output_type": "stream",
     "text": [
      "+--------------------+\n",
      "|               title|\n",
      "+--------------------+\n",
      "|      ALICE FANTASIA|\n",
      "|         APOLLO TEEN|\n",
      "|      ARGONAUTS TOWN|\n",
      "|       ARK RIDGEMONT|\n",
      "|ARSENIC INDEPENDENCE|\n",
      "|   BOONDOCK BALLROOM|\n",
      "|       BUTCH PANTHER|\n",
      "|       CATCH AMISTAD|\n",
      "| CHINATOWN GLADIATOR|\n",
      "|      CHOCOLATE DUCK|\n",
      "|COMMANDMENTS EXPRESS|\n",
      "|    CROSSING DIVORCE|\n",
      "|     CROWDS TELEMARK|\n",
      "|    CRYSTAL BREAKING|\n",
      "|          DAZED PUNK|\n",
      "|DELIVERANCE MULHO...|\n",
      "|   FIREHOUSE VIETNAM|\n",
      "|       FLOATS GARDEN|\n",
      "|FRANKENSTEIN STRA...|\n",
      "|  GLADIATOR WESTWARD|\n",
      "+--------------------+\n",
      "only showing top 20 rows\n",
      "\n"
     ]
    }
   ],
   "source": [
    "films_not_in_inventory = (\n",
    "    film_df\n",
    "    .join(inventory_df, on=\"film_id\", how=\"left_anti\")\n",
    "    .select(\"title\")\n",
    ")\n",
    "\n",
    "films_not_in_inventory.show()"
   ]
  },
  {
   "cell_type": "markdown",
   "metadata": {
    "collapsed": false,
    "jupyter": {
     "outputs_hidden": false
    }
   },
   "source": [
    "5.\n",
    "Вивести топ 3 актори, які найбільше зʼявлялись в категорії фільмів “Children”"
   ]
  },
  {
   "cell_type": "code",
   "execution_count": 9,
   "metadata": {
    "collapsed": false,
    "jupyter": {
     "outputs_hidden": false
    },
    "pycharm": {
     "is_executing": true
    }
   },
   "outputs": [
    {
     "name": "stdout",
     "output_type": "stream",
     "text": [
      "+------------+-----+\n",
      "|   full_name|count|\n",
      "+------------+-----+\n",
      "|HELEN VOIGHT|    7|\n",
      "| SUSAN DAVIS|    6|\n",
      "|  MARY TANDY|    5|\n",
      "+------------+-----+\n",
      "\n"
     ]
    }
   ],
   "source": [
    "children_category = category_df.filter(category_df.name == \"Children\")\n",
    "\n",
    "children_films = film_category_df.join(children_category, \"category_id\")\n",
    "\n",
    "actors_in_children = film_actor_df.join(children_films, \"film_id\")\n",
    "\n",
    "actors_named = actors_in_children.join(actor_df, \"actor_id\") \\\n",
    "    .withColumn(\"full_name\", F.concat_ws(\" \", \"first_name\", \"last_name\"))\n",
    "\n",
    "top_3 = (\n",
    "    actors_named\n",
    "    .groupBy(\"full_name\")\n",
    "    .count()\n",
    "    .orderBy(\"count\", ascending=False)\n",
    "    .limit(3)\n",
    ")\n",
    "\n",
    "top_3.show()"
   ]
  },
  {
   "cell_type": "markdown",
   "metadata": {
    "collapsed": false,
    "jupyter": {
     "outputs_hidden": false
    }
   },
   "source": [
    "Stop Spark session:"
   ]
  },
  {
   "cell_type": "code",
   "execution_count": 10,
   "metadata": {
    "collapsed": false,
    "jupyter": {
     "outputs_hidden": false
    }
   },
   "outputs": [],
   "source": [
    "spark.stop()"
   ]
  }
 ],
 "metadata": {
  "kernelspec": {
   "display_name": "Python 3 (ipykernel)",
   "language": "python",
   "name": "python3"
  },
  "language_info": {
   "codemirror_mode": {
    "name": "ipython",
    "version": 3
   },
   "file_extension": ".py",
   "mimetype": "text/x-python",
   "name": "python",
   "nbconvert_exporter": "python",
   "pygments_lexer": "ipython3",
   "version": "3.12.9"
  }
 },
 "nbformat": 4,
 "nbformat_minor": 4
}
